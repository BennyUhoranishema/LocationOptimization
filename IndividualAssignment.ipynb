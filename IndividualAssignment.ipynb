{
  "nbformat": 4,
  "nbformat_minor": 0,
  "metadata": {
    "colab": {
      "provenance": [],
      "authorship_tag": "ABX9TyPMD6jEj+3VvpUOWjnSsJjq",
      "include_colab_link": true
    },
    "kernelspec": {
      "name": "python3",
      "display_name": "Python 3"
    },
    "language_info": {
      "name": "python"
    }
  },
  "cells": [
    {
      "cell_type": "markdown",
      "metadata": {
        "id": "view-in-github",
        "colab_type": "text"
      },
      "source": [
        "<a href=\"https://colab.research.google.com/github/BennyUhoranishema/LocationOptimization/blob/main/IndividualAssignment.ipynb\" target=\"_parent\"><img src=\"https://colab.research.google.com/assets/colab-badge.svg\" alt=\"Open In Colab\"/></a>"
      ]
    },
    {
      "cell_type": "code",
      "source": [
        "#Used Libraries\n",
        "import math\n",
        "import numpy as np"
      ],
      "metadata": {
        "id": "-cnTNoGgCw3a"
      },
      "execution_count": 26,
      "outputs": []
    },
    {
      "cell_type": "markdown",
      "source": [
        "## **QUESTION 1:**\n",
        "Find annual operational cost (holding + ordering) for the optimal sourcing strategy if:\n",
        "1. Products are sourced independently"
      ],
      "metadata": {
        "id": "SyLzT1f4FAgB"
      }
    },
    {
      "cell_type": "code",
      "source": [
        "# Storing product data in a dictionary with more descriptive names\n",
        "product_info = {\n",
        "    'A': {'annual_demand': 1000, 'ordering_cost': 110, 'cost_per_unit': 50, 'holding_rate': 0.2},\n",
        "    'B': {'annual_demand': 300, 'ordering_cost': 120, 'cost_per_unit': 60, 'holding_rate': 0.2},\n",
        "    'C': {'annual_demand': 100, 'ordering_cost': 125, 'cost_per_unit': 30, 'holding_rate': 0.2},\n",
        "    'D': {'annual_demand': 50, 'ordering_cost': 125, 'cost_per_unit': 30, 'holding_rate': 0.2},\n",
        "}\n",
        "\n",
        "# Initialize total operational cost\n",
        "cumulative_cost = 0\n",
        "\n",
        "# Convert dictionary keys to a list for iteration\n",
        "product_keys = list(product_info.keys())\n",
        "index = 0  # Initialize index for while loop\n",
        "\n",
        "while index < len(product_keys):\n",
        "    key = product_keys[index]\n",
        "    product = product_info[key]\n",
        "\n",
        "    # Extract values using more descriptive variable names\n",
        "    demand = product['annual_demand']\n",
        "    ordering_cost = product['ordering_cost']\n",
        "    unit_cost = product['cost_per_unit']\n",
        "    holding_rate = product['holding_rate']\n",
        "    holding_cost = holding_rate * unit_cost\n",
        "\n",
        "    # Calculate EOQ and order frequency using the square root formula\n",
        "    economic_order_quantity = math.sqrt((2 * demand * ordering_cost) / holding_cost)\n",
        "    frequency_of_order = demand / economic_order_quantity\n",
        "\n",
        "    # Compute annual holding and ordering costs\n",
        "    annual_holding_cost = (economic_order_quantity / 2) * holding_cost\n",
        "    annual_ordering_cost = ordering_cost * frequency_of_order\n",
        "\n",
        "    # Update cumulative cost\n",
        "    cumulative_cost += annual_holding_cost + annual_ordering_cost\n",
        "\n",
        "    index += 1  # Move to the next product\n",
        "\n",
        "# print statement for clearer output\n",
        "print(f\"Total Annual Operational Cost: ${cumulative_cost:,.2f}\")"
      ],
      "metadata": {
        "colab": {
          "base_uri": "https://localhost:8080/"
        },
        "id": "8QZMgN10EDIS",
        "outputId": "830cdad0-8aaf-44c0-aa92-7df35f23ef28"
      },
      "execution_count": 27,
      "outputs": [
        {
          "output_type": "stream",
          "name": "stdout",
          "text": [
            "Total Annual Operational Cost: $3,073.92\n"
          ]
        }
      ]
    },
    {
      "cell_type": "markdown",
      "source": [
        "## **QUESTION 2:**\n",
        "Find annual operational cost (holding + ordering) for the optimal sourcing strategy if:\n",
        "\n",
        "2. All four products are sourced with the same frequency"
      ],
      "metadata": {
        "id": "17yj5N1nFhfy"
      }
    },
    {
      "cell_type": "code",
      "source": [
        "# Initial sum of all costs\n",
        "total_initial_costs = 100 + 10 + 20 + 25 + 25\n",
        "\n",
        "products = {\n",
        "    \"1\": {\"demand\": 1000, \"holding_rate\": 0.2, \"unit_cost\": 50},\n",
        "    \"2\": {\"demand\": 300, \"holding_rate\": 0.2, \"unit_cost\": 60},\n",
        "    \"3\": {\"demand\": 100, \"holding_rate\": 0.2, \"unit_cost\": 30},\n",
        "    \"4\": {\"demand\": 50, \"holding_rate\": 0.2, \"unit_cost\": 30}\n",
        "}\n",
        "\n",
        "# Calculate the numerator for the EOQ formula\n",
        "numerator = sum(details[\"demand\"] * details[\"holding_rate\"] * details[\"unit_cost\"] for details in products.values())\n",
        "# Calculate Optimal Quantity (OQ) based on the EOQ formula\n",
        "optimal_quantity = math.sqrt(numerator / (2 * total_initial_costs))\n",
        "\n",
        "# Iterate over products using a while loop to calculate optimal order size and annual holding cost\n",
        "product_ids = list(products.keys())  # Create a list of product IDs for iteration\n",
        "index = 0  # Initialize index for while loop\n",
        "\n",
        "while index < len(product_ids):\n",
        "    product_id = product_ids[index]\n",
        "    product = products[product_id]\n",
        "\n",
        "    optimal_order_size = product[\"demand\"] / optimal_quantity\n",
        "    annual_holding_cost = optimal_order_size * product[\"holding_rate\"] * product[\"unit_cost\"] / 2\n",
        "\n",
        "    products[product_id][\"Optimal Order Size\"] = optimal_order_size\n",
        "    products[product_id][\"Annual Holding Cost\"] = annual_holding_cost\n",
        "\n",
        "    index += 1  # Increment the index to move to the next product\n",
        "\n",
        "# Calculate annual order cost and total annual cost for all products using the calculated values\n",
        "annual_order_cost = optimal_quantity * total_initial_costs\n",
        "total_annual_cost = annual_order_cost + sum(product[\"Annual Holding Cost\"] for product in products.values())\n",
        "\n",
        "# Setting order frequency for each product to the optimal quantity using a while loop\n",
        "index = 0  # Reset index for another iteration\n",
        "while index < len(product_ids):\n",
        "    product_id = product_ids[index]\n",
        "    products[product_id][\"Order Frequency\"] = optimal_quantity\n",
        "    index += 1  # Increment the index to move to the next product\n",
        "\n",
        "# Improved output formatting\n",
        "print(f\"Total Annual Operational Cost when four products are sourced with the same order frequency: ${total_annual_cost:,.2f}\")"
      ],
      "metadata": {
        "colab": {
          "base_uri": "https://localhost:8080/"
        },
        "id": "urdjOSYcFpFV",
        "outputId": "07a0a490-e617-4cb5-dce9-deb76a760bd8"
      },
      "execution_count": 28,
      "outputs": [
        {
          "output_type": "stream",
          "name": "stdout",
          "text": [
            "Total Annual Operational Cost when four products are sourced with the same order frequency: $2,284.73\n"
          ]
        }
      ]
    },
    {
      "cell_type": "markdown",
      "source": [
        "## **QUESTION 3:**\n",
        "Find annual operational cost (holding + ordering) for the optimal sourcing strategy if:\n",
        "3. Order frequencies are determined according to the tailored aggregation strategy."
      ],
      "metadata": {
        "id": "0myEQjroJIoG"
      }
    },
    {
      "cell_type": "code",
      "source": [
        "# Adjusted variable names for clarity\n",
        "annual_product_demand = np.array([1000, 300, 100, 50])  # Yearly demand for each product\n",
        "specific_ordering_expenses = np.array([10, 20, 25, 25])  # Costs of ordering each product specifically\n",
        "unit_cost_per_product = np.array([50, 60, 30, 30])  # Purchase cost per unit of product\n",
        "holding_cost_percentage = 0.2  # Percentage rate for calculating holding costs\n",
        "universal_ordering_cost = 100  # Shared ordering cost for all products\n",
        "\n",
        "# Calculate holding costs for each product based on unit costs\n",
        "holding_cost_per_unit = holding_cost_percentage * unit_cost_per_product\n",
        "\n",
        "# Indices of products selected for cost aggregation strategy\n",
        "selected_group_indices = [0, 1]\n",
        "\n",
        "# Renamed function for calculating aggregated costs and EOQ\n",
        "def calculate_aggregated_costs(indices, product_demand, per_unit_holding_costs, per_product_ordering_costs, shared_ordering_cost):\n",
        "    # Sum of demands for selected products\n",
        "    total_demand = product_demand[indices].sum()\n",
        "    # Average holding cost for the selected products\n",
        "    mean_holding_cost = per_unit_holding_costs[indices].mean()\n",
        "    # Combined ordering costs for the group, including the shared cost\n",
        "    aggregate_ordering_cost = per_product_ordering_costs[indices].sum() + shared_ordering_cost\n",
        "    # Calculation of Economic Order Quantity for the group\n",
        "    eoq_for_group = np.sqrt((2 * total_demand * aggregate_ordering_cost) / mean_holding_cost)\n",
        "    # Total cost calculation for the group, combining ordering and holding costs\n",
        "    total_group_cost = (total_demand / eoq_for_group) * aggregate_ordering_cost + (eoq_for_group / 2) * mean_holding_cost\n",
        "    return total_group_cost, eoq_for_group\n",
        "\n",
        "# Calculate total cost and EOQ for selected product group\n",
        "total_cost_for_group, group_economic_order_qty = calculate_aggregated_costs(selected_group_indices, annual_product_demand, holding_cost_per_unit, specific_ordering_expenses, universal_ordering_cost)\n",
        "\n",
        "# The overall cost considering the sum of group costs and EOQ\n",
        "cumulative_cost_with_eoq = total_cost_for_group + group_economic_order_qty\n",
        "\n",
        "# Printing the total cost with the aggregation strategy, including the EOQ\n",
        "print(f\"Aggregate Strategy Total Cost: ${cumulative_cost_with_eoq:.2f}\")\n"
      ],
      "metadata": {
        "colab": {
          "base_uri": "https://localhost:8080/"
        },
        "id": "O-13Wxj-NZ3z",
        "outputId": "473dfc11-4d05-4bb3-b855-15d07b578900"
      },
      "execution_count": 29,
      "outputs": [
        {
          "output_type": "stream",
          "name": "stdout",
          "text": [
            "Aggregate Strategy Total Cost: $2103.50\n"
          ]
        }
      ]
    }
  ]
}